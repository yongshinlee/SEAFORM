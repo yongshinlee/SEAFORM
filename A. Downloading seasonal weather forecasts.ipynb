{
 "cells": [
  {
   "cell_type": "markdown",
   "id": "f2d33524",
   "metadata": {},
   "source": [
    "# A. Downloading seasonal weather forecasts\n",
    "\n",
    "The atmosphere can be viewed as a chaotic system in which the future state depends sensitively on the initial conditions, i.e. a slight change in the initial conditions can lead to a significant change in the forecast outputs. The fact that estimates of the current state are inaccurate and that numerical models have inadequacies, leads to forecast errors and uncertainty that grow with increasing forecast lead time. Ensemble forecasting aims at capturing this forecast uncertainty by generating an ensemble of several possible scenarios with the same probability of occurrence. ([Learn more about ensemble prediction](https://www.youtube.com/watch?v=NLhRUun2iso))\n",
    "\n",
    "![uncertainty](util/images/uncertainty.jpg)\n",
    "\n",
    "In this Notebook we will learn how to connect to Copernicus Climate Data Store (https://cds.climate.copernicus.eu/) and download ensemble weather forecasts and hindcasts."
   ]
  },
  {
   "cell_type": "markdown",
   "id": "a8263f95",
   "metadata": {},
   "source": [
    "## 1. Create an account on the Copernicus Climate Data Store\n",
    "First of all you need to register on the Copernicus Climate Data Store (CDS): https://cds.climate.copernicus.eu\n",
    "\n",
    "Once you have created an account copy your user ID (UID) and API key. You can find them in your Copernicus CDS User profile.\n",
    "\n",
    "In the folder containing this Notebook you will find a file called \".cdsapirc\". Copy and paste this file in your \"home\" folder. On Windows it corresponds to \"C:/Users/{your username on Windows}/\"\n",
    "Open the copied file with a text editor, you should see this:\n",
    "\n",
    "> url: https://cds.climate.copernicus.eu/api/v2\n",
    "\n",
    "> key: UID:APIkey\n",
    "\n",
    "Now edit this text and replace UID by your own UID number and APIkey by your own API key number (make sure that both numbers are separated by a colon)\n",
    "You can also find these intructions in this [link](https://cds.climate.copernicus.eu/api-how-to)\n",
    "\n",
    "## 2. Import libraries\n",
    "Now, we need to import the necessary libraries and tools (🚨 in order to run the code like in the box below, place the mouse pointer in the cell, then click on “run cell” button above or press shift + enter)."
   ]
  },
  {
   "cell_type": "code",
   "execution_count": 1,
   "id": "07468bfe",
   "metadata": {},
   "outputs": [],
   "source": [
    "import cdsapi    #Anaconda prompt -> pip install cdsapi\n",
    "import netCDF4   #Anaconda prompt -> conda install netcdf4\n",
    "from netCDF4 import num2date, Dataset\n",
    "import numpy as np\n",
    "import pandas as pd\n",
    "from IPython.display import Image"
   ]
  },
  {
   "cell_type": "markdown",
   "id": "7418ee7b",
   "metadata": {},
   "source": [
    "## 3. Seasonal forecasts systems and datasets for 8 originating centres \n",
    "(https://confluence.ecmwf.int/display/CKB/C3S+Seasonal+Forecasts, 8/June/2022)\n",
    "\n",
    "Please check the details of information that you need such as originating centres and their systems, available datasets from the Table below;\n",
    "\n",
    "#### - Total precipitation, 1st of every month data\n",
    "![Seasonal forecasts info](util/images/Forecast_products_info.jpg)\n",
    "\n",
    "    \n",
    "There are 33 variables that you can download, however, please note that some of the variables are not supplied by certain originating centres. For more information, contact to Copernicus CDS (https://cds.climate.copernicus.eu/cdsapp#!/dataset/seasonal-original-single-levels?tab=form)\n",
    "    \n",
    "#### - Variables\n",
    "![weather_variables](util/images/weather_variables.jpg)"
   ]
  },
  {
   "cell_type": "markdown",
   "id": "e79e3799",
   "metadata": {},
   "source": [
    "## 4. Paramaters defining the data to download\n",
    "\n",
    "This code provides continuous seasonal forecasts dataset download. Enter the detail informaition that you want to download considering the Table and variable information above.\n",
    "\n",
    "### Select the originating centre and the weather variables to download"
   ]
  },
  {
   "cell_type": "code",
   "execution_count": 2,
   "id": "28c354d0",
   "metadata": {},
   "outputs": [],
   "source": [
    "# Originating centre of the ensemble weather forecast\n",
    "originating_centre = 'ecmwf'             # ecmwf, ukmo, meteo_france, dwd, cmcc, ncep, jma, eccc\n",
    "system             = 5                   # See the table above (e.g. ecmwf systems are 4 and 5)\n",
    "# Weather variables to download\n",
    "variables = ['2m_temperature', 'evaporation', 'total_precipitation']  # See the variable information above"
   ]
  },
  {
   "cell_type": "markdown",
   "id": "d06287c8",
   "metadata": {},
   "source": [
    "### Forecast dates to download"
   ]
  },
  {
   "cell_type": "code",
   "execution_count": 3,
   "id": "5cba2cf0",
   "metadata": {},
   "outputs": [],
   "source": [
    "# Initial dates of the forecast data files that will be downloaded\n",
    "start_year = 2020 # Download start year\n",
    "end_year   = 2020 # Download end year\n",
    "years      = range(start_year, end_year + 1) \n",
    "\n",
    "start_month = 11   # Download start month\n",
    "end_month   = 12   # Download end month\n",
    "months      = range(start_month, end_month + 1) \n",
    "\n",
    "days = 1 # Download start day of the month (i.e. when the forecast data is published, usually the 1st day of \n",
    "# the month but this depends on the originating centre)\n",
    "\n",
    "# From the initial date defined above, we download forecast data with a 7-month lead time. We apply a 24h timestep. \n",
    "lead_time       = 5160 # hours, 5160 hours = 7 months approximately\n",
    "time_step       = 24 # hours\n",
    "lead_time_hours = range(time_step,lead_time+time_step,time_step)"
   ]
  },
  {
   "cell_type": "markdown",
   "id": "5b45e5ac",
   "metadata": {},
   "source": [
    "### Spatial extent and catchment name\n",
    "\n",
    "To define the spatial extent of the data to download, please enter the longitude and latitude in degrees of the squared area that contains the region or catchment of study in the following cell. Also give a name to the catchment of study so it can be later included in the name of the downloaded NetCDF file."
   ]
  },
  {
   "cell_type": "code",
   "execution_count": 4,
   "id": "e7f29e32",
   "metadata": {},
   "outputs": [],
   "source": [
    "north_lat = 40  # North Latitude (in degrees)\n",
    "south_lat = 33  # South Latitude (in degrees)\n",
    "west_lon  = 126 # West Longitude (in degrees)\n",
    "east_lon  = 129 # East Longitude (in degrees)\n",
    "catch_name = 'cj'  "
   ]
  },
  {
   "cell_type": "markdown",
   "id": "a0f12acb",
   "metadata": {},
   "source": [
    "## 5. Download dataset\n",
    "\n",
    "Now that we have defined all the necessary parameters we need to run the code below to download all the data. In each loop iteration the code will download 7-month daily data for each defined initial date. 🚨**Please note that this can take several hours** as each request will be queued. If you download a large dataset, we recommend to run this Notebook at night or when the PC is not in use.\n",
    "\n",
    "Connection to Copernicus CDS may be lost so please monitor the progress of the download. If connection is lost, please try again updating the start year or month to avoid downloading data that have been already downloaded."
   ]
  },
  {
   "cell_type": "code",
   "execution_count": 5,
   "id": "a5aac2da",
   "metadata": {
    "scrolled": true
   },
   "outputs": [
    {
     "name": "stderr",
     "output_type": "stream",
     "text": [
      "2022-08-12 15:42:56,364 INFO Welcome to the CDS\n",
      "2022-08-12 15:42:56,364 INFO Sending request to https://cds.climate.copernicus.eu/api/v2/resources/seasonal-original-single-levels\n",
      "2022-08-12 15:42:56,626 INFO Request is completed\n",
      "2022-08-12 15:42:56,626 INFO Downloading https://download-0017.copernicus-climate.eu/cache-compute-0017/cache/data0/adaptor.mars.external-1660296129.975049-15883-17-f3f0b34b-0e7a-4e63-9817-5bfb4542785f.nc to assessment/ECMWF/cj_2020_11_ecmwf.nc (2M)\n",
      "2022-08-12 15:42:57,416 INFO Download rate 2.5M/s                                                                      \n",
      "2022-08-12 15:42:57,530 INFO Welcome to the CDS\n",
      "2022-08-12 15:42:57,530 INFO Sending request to https://cds.climate.copernicus.eu/api/v2/resources/seasonal-original-single-levels\n",
      "2022-08-12 15:42:57,685 INFO Request is completed\n",
      "2022-08-12 15:42:57,685 INFO Downloading https://download-0018.copernicus-climate.eu/cache-compute-0018/cache/data7/adaptor.mars.external-1660297454.956767-1171-19-b68e7e28-f65b-4e88-b9cf-421802efde4b.nc to assessment/ECMWF/cj_2020_12_ecmwf.nc (2M)\n",
      "2022-08-12 15:42:58,422 INFO Download rate 2.7M/s                                                                      \n"
     ]
    }
   ],
   "source": [
    "for year in years:\n",
    "    for month in months:\n",
    "        c = cdsapi.Client()\n",
    "        file_location = 'assessment/' + str(originating_centre.upper()) + '/' # folder location where to download the files\n",
    "        file_name = catch_name + '_' + str(year) + '_' + str(month).zfill(2)+ '_' + str(originating_centre) + '.nc'\n",
    "        \n",
    "        # Here we define the parameters to download the forecast\n",
    "        c.retrieve(\n",
    "            'seasonal-original-single-levels',\n",
    "            {\n",
    "            'format':             'netcdf', # file format\n",
    "            'originating_centre': originating_centre,\n",
    "            'system':             system,\n",
    "            'variable':           variables, # weather variables to download\n",
    "            'year':               year,\n",
    "            'month':              month,\n",
    "            'day':                days,\n",
    "            'leadtime_hour':      list(lead_time_hours),\n",
    "            'area':               [north_lat, west_lon, south_lat, east_lon], # If you wish to download global data remove this line\n",
    "            },\n",
    "        file_location+file_name) # here we specify the location and name of the file to be saved"
   ]
  },
  {
   "cell_type": "code",
   "execution_count": null,
   "id": "898e255a",
   "metadata": {},
   "outputs": [],
   "source": []
  }
 ],
 "metadata": {
  "kernelspec": {
   "display_name": "Python 3 (ipykernel)",
   "language": "python",
   "name": "python3"
  },
  "language_info": {
   "codemirror_mode": {
    "name": "ipython",
    "version": 3
   },
   "file_extension": ".py",
   "mimetype": "text/x-python",
   "name": "python",
   "nbconvert_exporter": "python",
   "pygments_lexer": "ipython3",
   "version": "3.8.8"
  },
  "varInspector": {
   "cols": {
    "lenName": 16,
    "lenType": 16,
    "lenVar": 40
   },
   "kernels_config": {
    "python": {
     "delete_cmd_postfix": "",
     "delete_cmd_prefix": "del ",
     "library": "var_list.py",
     "varRefreshCmd": "print(var_dic_list())"
    },
    "r": {
     "delete_cmd_postfix": ") ",
     "delete_cmd_prefix": "rm(",
     "library": "var_list.r",
     "varRefreshCmd": "cat(var_dic_list()) "
    }
   },
   "types_to_exclude": [
    "module",
    "function",
    "builtin_function_or_method",
    "instance",
    "_Feature"
   ],
   "window_display": false
  }
 },
 "nbformat": 4,
 "nbformat_minor": 5
}
