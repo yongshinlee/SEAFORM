{
 "cells": [
  {
   "cell_type": "markdown",
   "id": "993b1a79",
   "metadata": {},
   "source": [
    "# A. Download Seasonal forecasts datasets\n",
    "\n",
    "This code help you to connect to Copernicus CDS(https://cds.climate.copernicus.eu/) and downloads seasonal Forecasts datasets."
   ]
  },
  {
   "cell_type": "markdown",
   "id": "163c8212",
   "metadata": {},
   "source": [
    "### 1. Create an account on the Copernicus Climate Data Store\n",
    "First of all you need to register on the Copernicus Climate Data Store\n",
    "Once you have created an account copy your user ID (UID) and API key. You can find them in your User profile\n",
    "In the folder containing this Notebook you will find a file called \".cdsapirc\". Copy and paste this file in your \"home\" folder. On Windows it corresponds to \"C:/Users/{your username on Windows}/\"\n",
    "Open the copied file with a text editor, you should see this:\n",
    "\n",
    "url: https://cds.climate.copernicus.eu/api/v2\n",
    "key: UID:APIkey\n",
    "\n",
    "Now edit this text and replace UID by your own UID number and APIkey by your own API key number (make sure that both numbers are separated by a colon)\n",
    "You can also find these intructions in this link  [link](https://cds.climate.copernicus.eu/api-how-to)\n",
    "\n",
    "### 2. Import libraries\n",
    "First of all, import libraries that are required to proceed this code."
   ]
  },
  {
   "cell_type": "code",
   "execution_count": 1,
   "id": "572f202b",
   "metadata": {},
   "outputs": [],
   "source": [
    "import cdsapi    #Anaconda prompt -> pip install cdsapi\n",
    "import netCDF4   #Anaconda prompt -> conda install netcdf4\n",
    "from netCDF4 import num2date, Dataset\n",
    "import numpy as np\n",
    "import os\n",
    "import pandas as pd\n",
    "from IPython.display import Image"
   ]
  },
  {
   "cell_type": "markdown",
   "id": "5242e64b",
   "metadata": {},
   "source": [
    "### 3. Seasonal forecasts systems and datasets for 8 originating centres \n",
    "(https://confluence.ecmwf.int/display/CKB/C3S+Seasonal+Forecasts, 8/June/2022)\n",
    "\n",
    "Please check the details of information that you need such as originating centres and their systems, available datasets from the Table below;\n",
    "\n",
    "#### - Total precipitation, 1st of every month data\n",
    "<left> <img src=\"Seasonal forecasts info.jpg\" width = \"1000px\"><left>\n",
    "\n",
    "    \n",
    "There are 33 variables that you can download, however, please note that some of the variables are not supplied by certain originating centres. For more information, contact to Copernicus CDS (https://cds.climate.copernicus.eu/cdsapp#!/dataset/seasonal-original-single-levels?tab=form)\n",
    "    \n",
    "#### - Variables\n",
    "<left> <img src=\"variables2.jpg\" width = \"1000px\">"
   ]
  },
  {
   "cell_type": "markdown",
   "id": "25cd34ea",
   "metadata": {},
   "source": [
    "### 4. Download condition set up\n",
    "\n",
    "This code provides continuous seasonal forecasts dataset download. Enter the detail informaition that you want to download considering the Table and variable information above."
   ]
  },
  {
   "cell_type": "code",
   "execution_count": 10,
   "id": "97bd4026-17d4-4655-b968-a57570fb8c53",
   "metadata": {},
   "outputs": [],
   "source": [
    "originating_centre = 'cmcc'    # ecmwf, ukmo, meteo_france, dwd, cmcc, ncep, jma, eccc\n",
    "system = 35                    # See the table above. (e.g. ecmwf has system 4, 5)\n",
    "\n",
    "variables = ['2m_temperature', 'evaporation', 'total_precipitation']  # See the variable information above. (you can add or delete)\n",
    "\n",
    "leadtime_hour = [24,48,72,96,120,144,168,192,216,240,264,288,312,336,360,384,408,432,456,480,504,528,552,576,600,624,648,672,696,720,744,768,792,816,840,864,888,912,936,960,984,1008,1032,1056,1080,1104,1128,1152,1176,1200,1224,1248,1272,1296,1320,1344,1368,1392,1416,1440,1464,1488,1512,1536,1560,1584,1608,1632,1656,1680,1704,1728,1752,1776,1800,1824,1848,1872,1896,1920,1944,1968,1992,2016,2040,2064,2088,2112,2136,2160,2184,2208,2232,2256,2280,2304,2328,2352,2376,2400,2424,2448,2472,2496,2520,2544,2568,2592,2616,2640,2664,2688,2712,2736,2760,2784,2808,2832,2856,2880,2904,2928,2952,2976,3000,3024,3048,3072,3096,3120,3144,3168,3192,3216,3240,3264,3288,3312,3336,3360,3384,3408,3432,3456,3480,3504,3528,3552,3576,3600,3624,3648,3672,3696,3720,3744,3768,3792,3816,3840,3864,3888,3912,3936,3960,3984,4008,4032,4056,4080,4104,4128,4152,4176,4200,4224,4248,4272,4296,4320,4344,4368,4392,4416,4440,4464,4488,4512,4536,4560,4584,4608,4632,4656,4680,4704,4728,4752,4776,4800,4824,4848,4872,4896,4920,4944,4968,4992,5016,5040,5064,5088,5112,5136,5160]\n",
    "# This leadtime_hour is for daily based data download, if you wish to download certain time step, you can delete some timeslots\n",
    "\n",
    "stryear = 1995                # Download start year\n",
    "endyear = 1995                # Download end year\n",
    "strmonth = 11                 # Download start month\n",
    "endmonth = 12                 # Download end month\n",
    "days = 1                      # Download start date"
   ]
  },
  {
   "cell_type": "markdown",
   "id": "9d4ac06b",
   "metadata": {},
   "source": [
    "### 5. Spatial boundary set up\n",
    "\n",
    "You don't need to download global scale data. If you do, it will take more time to download and volume of data. \n",
    "In case you have specific region to download, please enter longitude and latitude information below.\n",
    "\n",
    "If you wish to download global scale data, just ignore to change the numbers below."
   ]
  },
  {
   "cell_type": "code",
   "execution_count": 11,
   "id": "7c97ed08",
   "metadata": {},
   "outputs": [],
   "source": [
    "up_lim_lat = 40      # Upper limit Latitude \n",
    "low_lim_lat = 33     # Lower limit Latitude \n",
    "west_lim_lon = 126   # Upper limit Longitude\n",
    "east_lim_lon = 129   # Lower limit Longitude"
   ]
  },
  {
   "cell_type": "markdown",
   "id": "9936aced",
   "metadata": {},
   "source": [
    "### 6. Download dataset\n",
    "\n",
    "Everything is ready, just run. <b>Please note that this is time consuming work</b>. It will take long time to download seasonal forecasts dataset. When you wish to download large amount of datasets, I recommend to run this code at night or when you don't work with the PC) \n",
    "\n",
    "If you wish to download data for a long time, sometimes connection to Copernicus CDS may be lost. Thus, please monitor the progress of download. Once download is disconnected, please try again with new start year or month."
   ]
  },
  {
   "cell_type": "code",
   "execution_count": 12,
   "id": "b42f306e-5627-4f82-b0fe-c2fd48ce230a",
   "metadata": {
    "scrolled": true
   },
   "outputs": [
    {
     "name": "stderr",
     "output_type": "stream",
     "text": [
      "2022-06-08 16:59:49,355 INFO Welcome to the CDS\n",
      "2022-06-08 16:59:49,356 INFO Sending request to https://cds.climate.copernicus.eu/api/v2/resources/seasonal-original-single-levels\n",
      "2022-06-08 16:59:49,424 INFO Request is queued\n",
      "2022-06-08 17:02:41,139 INFO Request is running\n",
      "2022-06-08 17:20:09,591 INFO Request is completed\n",
      "2022-06-08 17:20:09,592 INFO Downloading https://download-0006-clone.copernicus-climate.eu/cache-compute-0006/cache/data6/adaptor.mars.external-1654705065.2590666-27144-11-ec43daf3-4051-480c-893f-126555157b26.nc to ./netcdf/CMCC/sf_1995_11_cmcc.nc (1.4M)\n",
      "2022-06-08 17:20:11,034 INFO Download rate 959.8K/s                                                                    \n",
      "2022-06-08 17:20:11,130 INFO Welcome to the CDS\n",
      "2022-06-08 17:20:11,131 INFO Sending request to https://cds.climate.copernicus.eu/api/v2/resources/seasonal-original-single-levels\n",
      "2022-06-08 17:20:11,188 INFO Request is queued\n",
      "2022-06-08 17:20:12,237 INFO Request is running\n",
      "2022-06-09 08:58:18,935 INFO Request is completed\n",
      "2022-06-09 08:58:18,944 INFO Downloading https://download-0010-clone.copernicus-climate.eu/cache-compute-0010/cache/data5/adaptor.mars.external-1654706899.3392928-13589-6-5ab26a9b-2e44-4acb-bf65-8f38411be5eb.nc to ./netcdf/CMCC/sf_1995_12_cmcc.nc (1.4M)\n",
      "2022-06-09 08:58:20,880 INFO Download rate 714.1K/s                                                                    \n"
     ]
    }
   ],
   "source": [
    "for years in range(stryear, endyear+1):\n",
    "    for months in range(strmonth, endmonth+1):\n",
    "        c = cdsapi.Client()\n",
    "        file_location = './assessment/' + str(originating_centre.upper()) + '/sf_' + str(years) + '_' + str(months)+ '_' + str(originating_centre) + '.nc'   # you can change download folder location\n",
    "        c.retrieve(\n",
    "            'seasonal-original-single-levels',\n",
    "            {\n",
    "            'format': 'netcdf',\n",
    "            'originating_centre': originating_centre,\n",
    "            'system': system,\n",
    "            'variable': variables,\n",
    "            'year': years,\n",
    "            'month': months,\n",
    "            'day': days,\n",
    "            'leadtime_hour': leadtime_hour,\n",
    "            'area': [                                     # If you wish to download global scale data please erase this line\n",
    "                up_lim_lat, west_lim_lon, low_lim_lat,    # If you wish to download global scale data please erase this line\n",
    "                east_lim_lon,                             # If you wish to download global scale data please erase this line\n",
    "                ],                                        # If you wish to download global scale data please erase this line\n",
    "            },\n",
    "        file_location)\n",
    "    months = months + 1\n",
    "years = years + 1"
   ]
  },
  {
   "cell_type": "code",
   "execution_count": null,
   "id": "cd64c724",
   "metadata": {},
   "outputs": [],
   "source": []
  }
 ],
 "metadata": {
  "kernelspec": {
   "display_name": "Python 3 (ipykernel)",
   "language": "python",
   "name": "python3"
  },
  "language_info": {
   "codemirror_mode": {
    "name": "ipython",
    "version": 3
   },
   "file_extension": ".py",
   "mimetype": "text/x-python",
   "name": "python",
   "nbconvert_exporter": "python",
   "pygments_lexer": "ipython3",
   "version": "3.8.8"
  }
 },
 "nbformat": 4,
 "nbformat_minor": 5
}
