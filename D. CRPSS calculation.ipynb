{
 "cells": [
  {
   "cell_type": "markdown",
   "id": "511992a0",
   "metadata": {},
   "source": [
    "# D. CRPSS calculation\n",
    "\n",
    "Since the seasonal forecasts are comprised of ensemble members, generally applied simple evaluation methods such as RMSE (Root Mean Squared Error) and R2 have limitations. \n",
    "Thus, in many studies, CRPS or CRPSS are adopted to measure the skill of ensembled datasets.\n",
    "This code enables you to calculate those indices automatically.\n",
    "\n",
    "### 1. Import Libraries\n",
    "\n",
    "Let's start by importing the necessary libraries (🚨 in order to run the code like in the cell below, place the mouse pointer in the cell, then click on “run cell” button above or press shift + enter)."
   ]
  },
  {
   "cell_type": "code",
   "execution_count": 2,
   "id": "e0abc777",
   "metadata": {},
   "outputs": [],
   "source": [
    "import cdsapi\n",
    "import netCDF4\n",
    "from netCDF4 import num2date, Dataset\n",
    "import numpy as np\n",
    "import os\n",
    "import pandas as pd\n",
    "import hydrostats.ens_metrics as em\n",
    "import datetime"
   ]
  },
  {
   "cell_type": "markdown",
   "id": "5afc44ca",
   "metadata": {},
   "source": [
    "### 2. Basic settings\n",
    "\n",
    "Again, we have to make basic settings to calculate CRPS and CRPSS."
   ]
  },
  {
   "cell_type": "code",
   "execution_count": 4,
   "id": "6423903c",
   "metadata": {},
   "outputs": [],
   "source": [
    "originating_centre = 'ECMWF'\n",
    "variable = 'tp'               # Information that you want to calculate areal mean\n",
    "catch_name = 'cj'             # What is the name of your catchment?\n",
    "maxleadtime = 6               # Number of months that you want to extract\n",
    "start_year = 2011                # CRPS/CRPSS calculation start year\n",
    "end_year = 2020                # CRPS/CRPSS calculation end year\n",
    "start_month = 1                  # CRPS/CRPSS calculation start month\n",
    "end_month = 12                 # CRPS/CRPSS calculation end month\n",
    "days = {1:31,2:28,3:31,4:30, 5:31, 6:30, 7:31, 8:31, 9:30, 10:31, 11:30,12:31}\n",
    "\n",
    "inpath = './assessment/' + str(originating_centre.upper())+ '/daily/'\n",
    "bcpath = './assessment/' + str(originating_centre.upper())+ '/biascorrection/'\n",
    "calcpath = './assessment/' + str(originating_centre.upper())+ '/calculation/'"
   ]
  },
  {
   "cell_type": "markdown",
   "id": "bdb22eb4",
   "metadata": {},
   "source": [
    "### 3. Seasonal forecasts CRPS calculation\n",
    "\n",
    "###   3.1 Rearrange Datasets by lead time (Seasonal forecasts)\n",
    "\n",
    "Basically, CRPS/CRPSS are calculated according to lead time. Therefore, we need to collect them into a single file for each lead time. This code enable to collect every data having same lead time. \n",
    "\n",
    "Considering that we have 2 types datasets, before and after bias correction, <font color = 'red'> You don't need to repeat this process 2 times, since automatically this code perforems for both.</font> "
   ]
  },
  {
   "cell_type": "code",
   "execution_count": 16,
   "id": "371572a1",
   "metadata": {
    "scrolled": false
   },
   "outputs": [
    {
     "name": "stdout",
     "output_type": "stream",
     "text": [
      "Successful\n"
     ]
    }
   ],
   "source": [
    "# Before bias correction\n",
    "bc_type = 'before'\n",
    "# Allocation of inputfile path and tail annotation\n",
    "\n",
    "for leadtime in range(1,maxleadtime+1):\n",
    "    for years in range(start_year,end_year+1):\n",
    "        for months in range(start_month, end_month+1):\n",
    "            df = pd.read_csv(inpath + str(catch_name) + '_' + str(years) + '_' + str(months) + '_' + str(originating_centre.lower())+ '_' + str(variable) + '_mean.csv')\n",
    "            df2=df.groupby(by=['leadtime']).sum().cumsum()\n",
    "            df2['date'] = str(years) + '_' + str(months)\n",
    "            col1=df2.columns[-1:].to_list()\n",
    "            col2=df2.columns[:-1].to_list()\n",
    "            new_col=col1+col2\n",
    "            df3=df2[new_col]\n",
    "            temp = pd.DataFrame(df3.loc[leadtime]).T\n",
    "            if years == start_year and months ==start_month:\n",
    "                temp1 = temp\n",
    "            else :\n",
    "                pass\n",
    "            temp1 = temp1.append(temp, ignore_index = True)\n",
    "    temp1 = temp1.iloc[1:]\n",
    "    temp1['mean2'] = temp1['mean']\n",
    "    temp1['obs2'] = temp1['obs']\n",
    "    temp1=temp1.drop(['mean','obs'], axis=1)\n",
    "    temp1.rename(columns={'mean2':'mean', 'obs2':'obs'}, inplace=True)\n",
    "    temp1.set_index('date', inplace=True)\n",
    "    temp1.to_csv(calcpath + str(catch_name) + '_' + str(leadtime) + '_' + bc_type + '_bc.csv')\n",
    "\n",
    "# After bias correction\n",
    "bc_type = 'after'\n",
    "# Allocation of inputfile path and tail annotation\n",
    "\n",
    "for leadtime in range(1,maxleadtime+1):\n",
    "    for years in range(start_year,end_year+1):\n",
    "        for months in range(start_month, end_month+1):\n",
    "            df = pd.read_csv(bcpath + str(catch_name) + '_' + str(years) + '_' + str(months) + '_' + str(originating_centre.lower())+ '_' + str(variable) + '_mean_bc.csv')\n",
    "            df2=df.groupby(by=['leadtime']).sum().cumsum()\n",
    "            df2['date'] = str(years) + '_' + str(months)\n",
    "            col1=df2.columns[-1:].to_list()\n",
    "            col2=df2.columns[:-1].to_list()\n",
    "            new_col=col1+col2\n",
    "            df3=df2[new_col]\n",
    "            temp = pd.DataFrame(df3.loc[leadtime]).T\n",
    "            if years == start_year and months ==start_month:\n",
    "                temp1 = temp\n",
    "            else :\n",
    "                pass\n",
    "            temp1 = temp1.append(temp, ignore_index = True)\n",
    "    years = years+1\n",
    "    temp1 = temp1.iloc[1:]\n",
    "    temp1['mean2'] = temp1['mean']\n",
    "    temp1['obs2'] = temp1['obs']\n",
    "    temp1=temp1.drop(['mean','obs'], axis=1)\n",
    "    temp1.rename(columns={'mean2':'mean', 'obs2':'obs'}, inplace=True)\n",
    "    temp1.set_index('date', inplace=True)\n",
    "    temp1.to_csv(calcpath + str(catch_name) + '_' + str(leadtime) + '_' + bc_type + '_bc.csv')\n",
    "\n",
    "print('Successful')"
   ]
  },
  {
   "cell_type": "markdown",
   "id": "eb514514",
   "metadata": {},
   "source": [
    "#### 3.2 CRPS calculation (Seasonal forecasts)\n",
    "\n",
    "CRPS is a measure of how good forecasts are in matching observed outcomes considering each ensemble. It is a quadratic measure of the difference between the forecast cumulative distribution function (CDF) and the reference dataset of the observation (Zamo and Naveau, 2017). The CRPS is thus calculated as\n",
    "\n",
    "$$ CRPS= \\int [F(x) - H(x > y)]^2 dx $$\n",
    "\n",
    "where F(x) represents the cumulative distribution of seasonal forecasts, y is observed precipitation, H is called the indicator function which is equals to 1 when x > y and 0 when x < y. Once the CRPS is equals to 0, the forecast is wholly accurate, conversely, the higher the CRPS, the worse the performance of the forecast. \n",
    "\n",
    "This code automatically calculate two times (before, after bias correction).\n",
    "\n",
    "Also, sometimes we can face the issue from the number of ensemble members. Most of originating centres have changed number of ensemble members once. (Please see A.Download seasonal forecasts datasets / 3. Seasonal forecasts systems and datasets for 8 originating centres / Total precipitation table). In this case, we need to designate exact location and number of ensemble manually. \n",
    "\n",
    "This example show you the case when we apply ECMWF datasets to calculate CRPS from 2011 to 2020. In this case, there are 25 ensemble members and 72 rows from Jan.2011 to Dec.2016, also rest of the data have 51 ensemble members. If the number of ensemble members is same, you can put the same number on it.  <font color='red'> Remember, you need to manually to revise the code below;</font>"
   ]
  },
  {
   "cell_type": "code",
   "execution_count": 17,
   "id": "1019619b",
   "metadata": {},
   "outputs": [
    {
     "name": "stdout",
     "output_type": "stream",
     "text": [
      "Successful\n"
     ]
    }
   ],
   "source": [
    "# Before bias correction\n",
    "bc_type = 'before'\n",
    "\n",
    "# (Should be manually revised) \n",
    "num_row1 = 72    # The number of rows for the first datasets having 'num_col1' of ensemble members\n",
    "num_col1 = 25    # The number of ensemble members for the first datasets\n",
    "num_col2 = 51    # The number of ensemble members for the second datasets\n",
    "\n",
    "# CRPS calculation\n",
    "for leadtime in range(1,maxleadtime+1):\n",
    "    df = pd.read_csv(calcpath + str(catch_name) + '_' + str(leadtime) + '_' + bc_type + '_bc.csv')\n",
    "    df_a = df.to_numpy().astype(float)\n",
    "    df_a2 = df_a[:,1:df_a.shape[1]-2]\n",
    "    df_a3 = df_a2[:num_row1, :num_col1]     # data slicing\n",
    "    df_a4 = df_a2[num_row1:, :num_col2]     # data slicing\n",
    "    df_obs1 = df_a[:num_row1, num_col2+2]   # data slicing\n",
    "    df_obs2 = df_a[num_row1:, num_col2+2]   # data slicing\n",
    "        \n",
    "    crps_dictionary_rand1 = em.ens_crps(df_obs1, df_a3)\n",
    "    crps_dictionary_rand2 = em.ens_crps(df_obs2, df_a4)\n",
    "    temp1 = crps_dictionary_rand1['crps']\n",
    "    temp2 = crps_dictionary_rand2['crps']\n",
    "    crps = np.concatenate([temp1, temp2], axis=0)\n",
    "    csv = pd.DataFrame(crps)\n",
    "    csv['month'] = df['date'].str.slice(start=5,stop=7)\n",
    "    csv.set_index(df['date'], inplace=True)\n",
    "    csv=csv[['month',0]]\n",
    "    csv=csv.rename(columns={0:'CRPS_'+str(leadtime)})\n",
    "    csv.to_csv(calcpath + 'CRPS_' + str(leadtime) + '_' + str(catch_name) +'_' + str(bc_type) + '_bc.csv')\n",
    "leadtime = leadtime+1\n",
    "\n",
    "# Data merge for whole lead time\n",
    "base = pd.read_csv(calcpath + 'CRPS_' + str(1) + '_' + str(catch_name) +'_' + str(bc_type) + '_bc.csv')\n",
    "base['leadtime'] = 1\n",
    "base['CRPS'] = round(base['CRPS_1'],3)\n",
    "base.drop(columns=['CRPS_1'], inplace=True)\n",
    "for leadtime in range(2,maxleadtime+1):\n",
    "    df = pd.read_csv(calcpath + 'CRPS_' + str(leadtime) + '_' + str(catch_name) +'_' + str(bc_type) + '_bc.csv')\n",
    "    df['CRPS'] = round(df['CRPS_' + str(leadtime)],3)\n",
    "    df.drop(columns=['CRPS_' + str(leadtime)], inplace=True)\n",
    "    df['leadtime'] = leadtime        \n",
    "    base = pd.concat([base, df])\n",
    "leadtime = leadtime+1\n",
    "base['catchment'] = str(catch_name)\n",
    "base.set_index('catchment', inplace=True)\n",
    "base.to_csv(calcpath + '[CRPS]_' + str(catch_name) +'_'  + str(originating_centre.lower()) + '_' + str(bc_type) + '_bc.csv')\n",
    "\n",
    "#------------------------------------------------------------------------------------------------------------------------\n",
    "# After bias correction\n",
    "bc_type = 'after'\n",
    "\n",
    "# CRPS calculation\n",
    "for leadtime in range(1,maxleadtime+1):\n",
    "    df = pd.read_csv(calcpath + str(catch_name) + '_' + str(leadtime) + '_' + bc_type + '_bc.csv')\n",
    "    df_a = df.to_numpy().astype(float)\n",
    "    df_a2 = df_a[:,1:df_a.shape[1]-2]\n",
    "    df_a3 = df_a2[:num_row1, :num_col1]     # data slicing\n",
    "    df_a4 = df_a2[num_row1:, :num_col2]     # data slicing\n",
    "    df_obs1 = df_a[:num_row1, num_col2+2]   # data slicing\n",
    "    df_obs2 = df_a[num_row1:, num_col2+2]   # data slicing\n",
    "        \n",
    "    crps_dictionary_rand1 = em.ens_crps(df_obs1, df_a3)\n",
    "    crps_dictionary_rand2 = em.ens_crps(df_obs2, df_a4)\n",
    "    temp1 = crps_dictionary_rand1['crps']\n",
    "    temp2 = crps_dictionary_rand2['crps']\n",
    "    crps = np.concatenate([temp1, temp2], axis=0)  \n",
    "    csv = pd.DataFrame(crps)\n",
    "    csv['month'] = df['date'].str.slice(start=5,stop=7)\n",
    "    csv.set_index(df['date'], inplace=True)\n",
    "    csv=csv[['month',0]]\n",
    "    csv=csv.rename(columns={0:'CRPS_'+str(leadtime)})\n",
    "    csv.to_csv(calcpath + 'CRPS_' + str(leadtime) + '_' + str(catch_name) +'_' + str(bc_type) + '_bc.csv')\n",
    "leadtime = leadtime+1\n",
    "\n",
    "# Data merge for whole lead time\n",
    "base = pd.read_csv(calcpath + 'CRPS_' + str(1) + '_' + str(catch_name) +'_' + str(bc_type) + '_bc.csv')\n",
    "base['leadtime'] = 1\n",
    "base['CRPS'] = round(base['CRPS_1'],3)\n",
    "base.drop(columns=['CRPS_1'], inplace=True)\n",
    "for leadtime in range(2,maxleadtime+1):\n",
    "    df = pd.read_csv(calcpath + 'CRPS_' + str(leadtime) + '_' + str(catch_name) +'_' + str(bc_type) + '_bc.csv')\n",
    "    df['CRPS'] = round(df['CRPS_' + str(leadtime)], 3)\n",
    "    df.drop(columns=['CRPS_' + str(leadtime)], inplace=True)\n",
    "    df['leadtime'] = leadtime        \n",
    "    base = pd.concat([base, df])\n",
    "leadtime = leadtime+1\n",
    "base['catchment'] = str(catch_name)\n",
    "base.set_index('catchment', inplace=True)\n",
    "base.to_csv(calcpath + '[CRPS]_' + str(catch_name) +'_'  + str(originating_centre.lower()) + '_' + str(bc_type) + '_bc.csv')\n",
    "\n",
    "print('Successful')"
   ]
  },
  {
   "cell_type": "markdown",
   "id": "485cd6aa",
   "metadata": {},
   "source": [
    "### 4.1. Climatology CRPS calculation\n",
    "\n",
    "\n",
    "#### 4.1 Rearrange Datasets by lead time (climatology)\n",
    "\n",
    "To calculate CRPSS, you should calculate the CRPSS of climatology. Here, climatology represents the past observed precipitation. \n",
    "Once again, to calculate CRPS, we need to rearrange the datasets along with lead time. To run the code, firstly you should specify the earliest year that you have as climatology."
   ]
  },
  {
   "cell_type": "code",
   "execution_count": 7,
   "id": "e3fb7b85",
   "metadata": {},
   "outputs": [
    {
     "name": "stdout",
     "output_type": "stream",
     "text": [
      "Successful\n"
     ]
    }
   ],
   "source": [
    "start_year_cli = 1994  # The earliest year that you have climatology data.\n",
    "\n",
    "# Call the observed data (climatology) and basic treatment\n",
    "leadtime=1\n",
    "df = pd.read_csv('./assessment/obsdata_tp.csv')\n",
    "df['date'] = pd.to_datetime(df['date'], infer_datetime_format=True, format='%m/%d/%Y', errors='ignore')\n",
    "df['year']=df['date'].dt.year\n",
    "df['month']=df['date'].dt.month\n",
    "df2=df.groupby(['year', 'month']).sum()\n",
    "df2=df2.reset_index()\n",
    "df2=df2[df2['year']<=start_year]\n",
    "df2=df2.pivot_table(str(catch_name), ['month'], 'year')\n",
    "df2=df2.reset_index()\n",
    "\n",
    "df3 = pd.read_csv(calcpath + str(catch_name) + '_' + str(1) + '_before_bc.csv')\n",
    "\n",
    "# Data rearranging work for 1 month of lead time\n",
    "empty_df = pd.DataFrame()\n",
    "empty_df['date'] = df3['date']\n",
    "for i in range(start_year_cli, start_year):\n",
    "    empty_df[i] = df2[i]\n",
    "\n",
    "for j in range(12, empty_df.shape[0]):\n",
    "    empty_df.iloc[j] = empty_df.iloc[j-12]\n",
    "j=j+1\n",
    "empty_df['mean'] = round(empty_df.iloc[:,1:empty_df.shape[1]+2].mean(axis=1),2)\n",
    "empty_df['obs'] = df3['obs']\n",
    "empty_df['date'] = df3['date']\n",
    "empty_df.set_index('date', inplace=True)\n",
    "empty_df.to_csv(calcpath + str(catch_name) + '_' + str(leadtime) +'_climatology.csv')\n",
    "\n",
    "# Rearranging data for the other lead times\n",
    "df_cli = pd.read_csv(calcpath + str(catch_name) + '_' + str(1) +'_climatology.csv')\n",
    "for leadtime in range(2,maxleadtime+1):\n",
    "    empty_df_cli = df_cli\n",
    "    num_row = empty_df_cli.shape[0]\n",
    "    for m in range(1,maxleadtime):\n",
    "        empty_df_cli.loc[num_row+m] = empty_df_cli.loc[m-1]\n",
    "    m = m+1\n",
    "    for k in range(0, num_row):\n",
    "        empty_df_cli.iloc[k] = empty_df_cli.iloc[k:k+leadtime].sum()\n",
    "    k=k+1\n",
    "    empty_df_cli=empty_df_cli.loc[:num_row]\n",
    "    df_cli = pd.read_csv(calcpath + str(catch_name) + '_' + str(1) +'_climatology.csv')\n",
    "    empty_df_cli['date'] = df_cli['date']\n",
    "    empty_df_cli.set_index('date', inplace=True)\n",
    "    empty_df_cli.to_csv(calcpath + str(catch_name) + '_' + str(leadtime) +'_climatology.csv')\n",
    "leadtime=leadtime+1\n",
    "\n",
    "print('Successful')"
   ]
  },
  {
   "cell_type": "markdown",
   "id": "87867f70",
   "metadata": {},
   "source": [
    "#### 4.2 CRPS calculation (climatology)\n",
    "\n",
    "This code repeats the process 3.2 for climatology."
   ]
  },
  {
   "cell_type": "code",
   "execution_count": 8,
   "id": "155edf49",
   "metadata": {},
   "outputs": [
    {
     "name": "stdout",
     "output_type": "stream",
     "text": [
      "Successful\n"
     ]
    }
   ],
   "source": [
    "# CRPS calculation\n",
    "for leadtime in range(1,maxleadtime+1):\n",
    "    df = pd.read_csv(calcpath + str(catch_name) + '_' + str(leadtime) + '_climatology.csv')\n",
    "    df_a = df.to_numpy().astype(float)\n",
    "    df_a2 = df_a[:,1:df_a.shape[1]-2]\n",
    "    df_a3 = df_a2[:, :]   \n",
    "    df_obs1 = df_a[:, df_a.shape[1]-1]   # 0에서 72번 행까지 / 53번 컬럼값을 선택하기\n",
    "    crps_dictionary_rand1 = em.ens_crps(df_obs1, df_a3)\n",
    "    temp1 = crps_dictionary_rand1['crps']\n",
    "    csv = pd.DataFrame(temp1)\n",
    "    csv['month'] = df['date'].str.slice(start=5,stop=7)\n",
    "    csv.set_index(df['date'], inplace=True)\n",
    "    csv=csv[['month',0]]\n",
    "    csv=csv.rename(columns={0:'CRPS_'+str(leadtime)})\n",
    "    csv.to_csv(calcpath + 'CRPS_' + str(leadtime) + '_' + str(catch_name) +'_climatology.csv')\n",
    "leadtime = leadtime+1\n",
    "\n",
    "# Data merge for whole lead time\n",
    "base = pd.read_csv(calcpath + 'CRPS_' + str(1) + '_' + str(catch_name) +'_climatology.csv')\n",
    "base['leadtime'] = 1\n",
    "base['CRPS_ref'] = base['CRPS_1']\n",
    "base.drop(columns=['CRPS_1'], inplace=True)\n",
    "for leadtime in range(2,maxleadtime+1):\n",
    "    df = pd.read_csv(calcpath + 'CRPS_' + str(leadtime) + '_' + str(catch_name) +'_climatology.csv')\n",
    "    df['CRPS_ref'] = round(df['CRPS_' + str(leadtime)],3)\n",
    "    df.drop(columns=['CRPS_' + str(leadtime)], inplace=True)\n",
    "    df['leadtime'] = leadtime        \n",
    "    base = pd.concat([base, df])\n",
    "leadtime = leadtime+1\n",
    "base['catchment'] = str(catch_name)\n",
    "base.set_index('catchment', inplace=True)\n",
    "base.to_csv(calcpath + '[CRPS]_' + str(catch_name) +'_'  + str(originating_centre.lower()) + '_climatology.csv')\n",
    "\n",
    "print('Successful')"
   ]
  },
  {
   "cell_type": "markdown",
   "id": "a09f31e8",
   "metadata": {},
   "source": [
    "### 5. CRPSS calculation\n",
    "\n",
    "CRPSS compares the skill of seasonal forecasts with climatology, thus finally it can be simply calculated as \n",
    "\n",
    "$$ CRPSS=\\ 1\\ -\\ \\frac{{\\rm CRPS}^{Sys}}{{\\rm CRPS}^{Ref}}$$\n",
    "\n",
    "where $CRPS^{Sys}$ is previously calculated $CRPS$ (seasonal forecasts), $CRPS^{Ref}$ represents the reference $CRPS$ obtained from climatology. When the skill score is higher (lower) than zero, the forecasting system is more (less) skilful than reference. When it is equal to zero, the system (seasonal forecasts) and the reference (Climatology) have equivalent skill. \n",
    "\n",
    "CRPSS can be calculated by runing the code below;"
   ]
  },
  {
   "cell_type": "code",
   "execution_count": 9,
   "id": "50be95f2",
   "metadata": {},
   "outputs": [
    {
     "name": "stdout",
     "output_type": "stream",
     "text": [
      "Successful\n"
     ]
    }
   ],
   "source": [
    "# Before bias correction\n",
    "bc_type = 'before'\n",
    "\n",
    "df = pd.read_csv(calcpath + '[CRPS]_'+ str(catch_name)  + '_' + str(originating_centre.lower()) + '_'  + str(bc_type) + '_bc.csv')\n",
    "df_ref = pd.read_csv(calcpath + '[CRPS]_'+ str(catch_name)  + '_' + str(originating_centre.lower()) + '_climatology.csv')\n",
    "df['CRPS_ref'] = round(df_ref['CRPS_ref'],3)\n",
    "df['CRPSS'] = round(1 - df['CRPS'] / df['CRPS_ref'],3)\n",
    "df.set_index('catchment', inplace=True)\n",
    "df.to_csv(calcpath + '[CRPSS]_' + str(catch_name) + '_' + str(originating_centre.lower()) + '_'  + str(bc_type) + '_bc.csv')\n",
    "\n",
    "#-----------------------------------------------------------------------------------------------------------------------------\n",
    "# After bias correction\n",
    "bc_type = 'after'\n",
    "\n",
    "df = pd.read_csv(calcpath + '[CRPS]_'+ str(catch_name)  + '_' + str(originating_centre.lower()) + '_'  + str(bc_type) + '_bc.csv')\n",
    "df_ref = pd.read_csv(calcpath + '[CRPS]_'+ str(catch_name)  + '_' + str(originating_centre.lower()) + '_climatology.csv')\n",
    "df['CRPS_ref'] = round(df_ref['CRPS_ref'],3)\n",
    "df['CRPSS'] = round(1 - df['CRPS'] / df['CRPS_ref'],3)\n",
    "df.set_index('catchment', inplace=True)\n",
    "df.to_csv(calcpath + '[CRPSS]_' + str(catch_name) + '_' + str(originating_centre.lower()) + '_'  + str(bc_type) + '_bc.csv')\n",
    "\n",
    "print('Successful')"
   ]
  }
 ],
 "metadata": {
  "kernelspec": {
   "display_name": "Python 3 (ipykernel)",
   "language": "python",
   "name": "python3"
  },
  "language_info": {
   "codemirror_mode": {
    "name": "ipython",
    "version": 3
   },
   "file_extension": ".py",
   "mimetype": "text/x-python",
   "name": "python",
   "nbconvert_exporter": "python",
   "pygments_lexer": "ipython3",
   "version": "3.8.8"
  }
 },
 "nbformat": 4,
 "nbformat_minor": 5
}
